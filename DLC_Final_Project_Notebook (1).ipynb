{
 "cells": [
  {
   "cell_type": "code",
   "execution_count": null,
   "id": "014dd72a-5df4-49f9-9f49-2f4d140d39d4",
   "metadata": {},
   "outputs": [],
   "source": [
    "#Whisker Tracking with DeepLabCut - Final Project"
   ]
  },
  {
   "cell_type": "code",
   "execution_count": null,
   "id": "c99e467d-6ac0-4d28-819d-bf22cbf042b3",
   "metadata": {},
   "outputs": [],
   "source": [
    "\n",
    "\n",
    "import matplotlib.pyplot as plt  #plotting graphs\n",
    "import pandas as pd #reading tracking data \n",
    "import numpy as np #working with numbers and arrays "
   ]
  },
  {
   "cell_type": "code",
   "execution_count": null,
   "id": "4ecb8383-6ce4-49d3-969a-e05997ed8f18",
   "metadata": {},
   "outputs": [],
   "source": [
    "csv_path = \"sub2555_croppedDLC_resnet50_BIPN162May25shuffel1_30000.csv\" #Loading the actual DLC output file from the video analysis       \n",
    "df = pd.read_csv(csv_path, header=[1, 2], index_col=0) #the CSV has a multi-level header: first row is body part, second row is coordinate (x/y/likelihood)\n",
    "df.head()  #Displaying the first few rows to check the structure "
   ]
  },
  {
   "cell_type": "code",
   "execution_count": null,
   "id": "0a32eca6-1875-4d22-8f67-00535ab07e44",
   "metadata": {},
   "outputs": [],
   "source": [
    "x = df[('whisker_tip','x')]   #Extracting X and Y coordinates for the 'whisker_tip' label\n",
    "y = df[('whisker_tip','y')]  #second level of teh column tells us the type of data: x-position, y-position, or the likelihood \n",
    "likeihood = df[('whisker_tip', 'likelihood')]\n",
    "\n",
    "\n",
    "print(\"First 5 X coordinates:\", x.head())  #printing the first few vaules to verify \n",
    "print(\"First 5 Y coordinates:\", y.head())\n",
    "print(\"First 5 Likelihood:\", likelihood.head())"
   ]
  },
  {
   "cell_type": "code",
   "execution_count": null,
   "id": "6685b1a0-fd24-47bf-b6a0-bc454f80542c",
   "metadata": {},
   "outputs": [],
   "source": [
    "#DeepLabCut also outputs a 'likelihood' score between 0 and 1 for each prediction\n",
    "#we will be removing points where the model was not confident (likelihood < 0.9) \n",
    "x_filtered = x.copy()  #Replacing low-confidence predictions with NaN \n",
    "y_filtered = y.copy()    \n",
    "x_filtered[likelihood < 0.9] = np.nan\n",
    "y_filtered[likelihood < 0.9] = np.nan"
   ]
  },
  {
   "cell_type": "code",
   "execution_count": null,
   "id": "1469429d-ed62-435b-b3fb-ac613d677116",
   "metadata": {},
   "outputs": [],
   "source": [
    "plt.figure(figsize=(10,6))  #Plotting the whisker tip's trajectory over time using the filtered X and Y positions\n",
    "plt.plot(x_filtered, y_filtered, label='Whisker Tip Path', color ='blue', linewidth=1.5)\n",
    "plt.xlabel(\"X Position (pixels)\")\n",
    "plt.ylabel(\"Y Position (pixels)\")\n",
    "plt.title(\"Whisker Movement Over Time (Filtered)\")\n",
    "plt.legend()\n",
    "plt.grid(True)\n",
    "plt.show()"
   ]
  },
  {
   "cell_type": "code",
   "execution_count": null,
   "id": "52173578-f0a8-4dee-920d-c5bc922d52ad",
   "metadata": {},
   "outputs": [],
   "source": [
    "displacement = np.sqrt(np.diff(x_filtered)**2 + np.diff(y_filtered)**2) #to calculate how much the whisker tip moved between each frame\n",
    "plt.figure(figsize=(10,5))  #Plotting the displacement per frame\n",
    "plt.plot(displacement, label='Whisker Tip Path', color ='blue', linewidth=1.5)\n",
    "plt.title(\"Whisker Tip Displacement per Frame\")\n",
    "plt.xlabel(\"Frame Number\")\n",
    "plt.ylabel(\"Displacement (pixels)\")\n",
    "plt.legend()\n",
    "plt.grid(True)\n",
    "plt.show()"
   ]
  }
 ],
 "metadata": {
  "kernelspec": {
   "display_name": "Python 3 (ipykernel)",
   "language": "python",
   "name": "python3"
  },
  "language_info": {
   "codemirror_mode": {
    "name": "ipython",
    "version": 3
   },
   "file_extension": ".py",
   "mimetype": "text/x-python",
   "name": "python",
   "nbconvert_exporter": "python",
   "pygments_lexer": "ipython3",
   "version": "3.11.9"
  }
 },
 "nbformat": 4,
 "nbformat_minor": 5
}
